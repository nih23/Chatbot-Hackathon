{
 "cells": [
  {
   "cell_type": "code",
   "execution_count": 7,
   "id": "48fb03a1-402e-4dfd-946b-3070896e04b8",
   "metadata": {},
   "outputs": [
    {
     "data": {
      "text/plain": [
       "True"
      ]
     },
     "execution_count": 7,
     "metadata": {},
     "output_type": "execute_result"
    }
   ],
   "source": [
    "import os\n",
    "from langchain.llms import HuggingFaceTextGenInference, OpenAI\n",
    "from dotenv import load_dotenv\n",
    "load_dotenv()"
   ]
  },
  {
   "cell_type": "markdown",
   "id": "892ab868",
   "metadata": {},
   "source": [
    "Wir definieren nun zwei Hilfsfunktionen um einfach zwischen GPT4 und unserem lokalen Sprachmodell zu wechseln."
   ]
  },
  {
   "cell_type": "code",
   "execution_count": 3,
   "id": "6510cf14",
   "metadata": {},
   "outputs": [
    {
     "name": "stderr",
     "output_type": "stream",
     "text": [
      "/opt/anaconda3/envs/ml/lib/python3.9/site-packages/langchain_community/llms/openai.py:249: UserWarning: You are trying to use a chat model. This way of initializing it is no longer supported. Instead, please use: `from langchain_community.chat_models import ChatOpenAI`\n",
      "  warnings.warn(\n",
      "/opt/anaconda3/envs/ml/lib/python3.9/site-packages/langchain_community/llms/openai.py:1070: UserWarning: You are trying to use a chat model. This way of initializing it is no longer supported. Instead, please use: `from langchain_community.chat_models import ChatOpenAI`\n",
      "  warnings.warn(\n"
     ]
    }
   ],
   "source": [
    "def getLLM_openai(): #openai API key kommt aus der .env Datei\n",
    "    #return ChatOpenAI(model=\"gpt-4-turbo-preview\")\n",
    "    return OpenAI(request_timeout=10, model_name=\"gpt-4-turbo-preview\") #10s timeout, model_name = \"gpt-3.5-turbo\"\n",
    "\n",
    "\n",
    "def getLLM_TGI(): \n",
    "     llm = HuggingFaceTextGenInference(inference_server_url=os.environ['TGI_URL'], max_new_tokens=2048, top_k=10, top_p=0.95, typical_p=0.95, temperature=0.01, repetition_penalty=1.03) \n",
    "     return llm\n",
    " \n",
    " \n",
    "llm = getLLM_openai()"
   ]
  },
  {
   "cell_type": "markdown",
   "id": "b5fa3011",
   "metadata": {},
   "source": [
    "# Erste Experimente\n",
    "In der nächsten Zelle rufen wir das LLM einfach auf."
   ]
  },
  {
   "cell_type": "code",
   "execution_count": 4,
   "id": "8bae8dd6",
   "metadata": {},
   "outputs": [
    {
     "name": "stderr",
     "output_type": "stream",
     "text": [
      "Retrying langchain_community.llms.openai.completion_with_retry.<locals>._completion_with_retry in 4.0 seconds as it raised Timeout: Request timed out: HTTPSConnectionPool(host='api.openai.com', port=443): Read timed out. (read timeout=10).\n"
     ]
    },
    {
     "name": "stdout",
     "output_type": "stream",
     "text": [
      "Der Himmel erscheint blau, weil die Moleküle in der Erdatmosphäre das Sonnenlicht streuen, wobei das blaue Licht stärker gestreut wird als das Licht anderer Farben. Dieses Phänomen, bekannt als Rayleigh-Streuung, tritt auf, weil blaues Licht kürzere Wellenlängen hat und somit effizienter in alle Richtungen gestreut wird. Daher dominiert das blaue Licht im gesamten Himmel, was uns der Himmel tagsüber in seiner charakteristischen Farbe erscheint.\n"
     ]
    }
   ],
   "source": [
    "res = llm.invoke(\"Warum ist der Himmel blau? Antworte in drei Sätzen.\")\n",
    "print(res)"
   ]
  },
  {
   "cell_type": "markdown",
   "id": "8ccb28b1",
   "metadata": {},
   "source": [
    "# RAG workflow\n",
    "Im folgenden stellen wir einen Beispielhaften RAG Workflow dar, der Daten von der Wikipedia Seite von Tibet als Grundlage nimmt."
   ]
  },
  {
   "cell_type": "code",
   "execution_count": 5,
   "id": "741b91ef",
   "metadata": {},
   "outputs": [],
   "source": [
    "import prompts\n",
    "from langchain.document_loaders import WebBaseLoader\n",
    "from langchain.text_splitter import RecursiveCharacterTextSplitter\n",
    "from langchain.embeddings import OpenAIEmbeddings, GPT4AllEmbeddings, HuggingFaceEmbeddings\n",
    "from langchain.vectorstores import Chroma\n",
    "from langchain.chains import RetrievalQA\n",
    "\n",
    "loader = WebBaseLoader(\"https://de.wikipedia.org/wiki/Tibet\")\n",
    "text_splitter = RecursiveCharacterTextSplitter(chunk_size = 1000, chunk_overlap = 100)\n",
    "splits = text_splitter.split_documents(loader.load())"
   ]
  },
  {
   "cell_type": "markdown",
   "id": "6804f420",
   "metadata": {},
   "source": [
    "Wir definieren uns nun ein Embedding für die deutsche Sprache und nehmen Chroma als Vektordatenbank. Diese benötigen wir für die Suche nach passenden Dokumenten für unsere Anfrage an das Sprachmodell"
   ]
  },
  {
   "cell_type": "code",
   "execution_count": 6,
   "id": "fe847a22",
   "metadata": {},
   "outputs": [
    {
     "name": "stderr",
     "output_type": "stream",
     "text": [
      "No sentence-transformers model found with name aari1995/German_Semantic_STS_V2. Creating a new one with MEAN pooling.\n"
     ]
    }
   ],
   "source": [
    "emb = HuggingFaceEmbeddings(model_name='aari1995/German_Semantic_STS_V2')\n",
    "vectorstore = Chroma.from_documents(documents=splits,embedding=emb, persist_directory=\"./chroma_db\")\n",
    "retriever = vectorstore.as_retriever()\n",
    "rag_prompt = prompts.german_sauerkrautlm()"
   ]
  },
  {
   "cell_type": "markdown",
   "id": "1870fb5a",
   "metadata": {},
   "source": [
    "In der folgenden Zelle verketten wir die Anfrage an die Vektordatenbank mit dem Aufruf von unserem Sprachmodell in einem `rag_chain`."
   ]
  },
  {
   "cell_type": "code",
   "execution_count": 7,
   "id": "e5269f13",
   "metadata": {},
   "outputs": [],
   "source": [
    "# configure rag chain\n",
    "chain_type_kwargs = {\"prompt\": rag_prompt}\n",
    "rag_chain = RetrievalQA.from_chain_type(llm=llm, chain_type='stuff', retriever=retriever, \n",
    "                                    chain_type_kwargs=chain_type_kwargs,\n",
    "                                    return_source_documents=True,\n",
    "                                    )"
   ]
  },
  {
   "cell_type": "markdown",
   "id": "f040132e",
   "metadata": {},
   "source": [
    "Nun erfolgt die eigentliche Anfrage an das LLM:"
   ]
  },
  {
   "cell_type": "code",
   "execution_count": 8,
   "id": "515c9d0d",
   "metadata": {},
   "outputs": [
    {
     "name": "stderr",
     "output_type": "stream",
     "text": [
      "Retrying langchain_community.llms.openai.completion_with_retry.<locals>._completion_with_retry in 4.0 seconds as it raised Timeout: Request timed out: HTTPSConnectionPool(host='api.openai.com', port=443): Read timed out. (read timeout=10).\n",
      "Retrying langchain_community.llms.openai.completion_with_retry.<locals>._completion_with_retry in 4.0 seconds as it raised Timeout: Request timed out: HTTPSConnectionPool(host='api.openai.com', port=443): Read timed out. (read timeout=10).\n",
      "Retrying langchain_community.llms.openai.completion_with_retry.<locals>._completion_with_retry in 4.0 seconds as it raised Timeout: Request timed out: HTTPSConnectionPool(host='api.openai.com', port=443): Read timed out. (read timeout=10).\n",
      "Retrying langchain_community.llms.openai.completion_with_retry.<locals>._completion_with_retry in 8.0 seconds as it raised Timeout: Request timed out: HTTPSConnectionPool(host='api.openai.com', port=443): Read timed out. (read timeout=10).\n",
      "Retrying langchain_community.llms.openai.completion_with_retry.<locals>._completion_with_retry in 10.0 seconds as it raised Timeout: Request timed out: HTTPSConnectionPool(host='api.openai.com', port=443): Read timed out. (read timeout=10).\n"
     ]
    },
    {
     "name": "stdout",
     "output_type": "stream",
     "text": [
      "Tibet ist eine Region in Zentralasien, welche kulturell und historisch von tibetisch-sprachigen Völkern geprägt wurde. Sie liegt abgeschieden südlich des Himalaya-Gebirges und entwickelte schon vor dem 7. Jahrhundert eigenständige Staaten wie Shangshung und Tubo. Tibet geriet im 13. Jahrhundert kurzzeitig unter mongolische Herrschaft und hatte bis ins 20. Jahrhundert hinein ein eigenes Staatswesen. Derzeit gehört Tibet zur Volksrepublik China, jedoch ist diese Zugehörigkeit völkerrechtlich umstritten. Seit 1959 existiert eine tibetische Exilregierung, die international nicht offiziell anerkannt, aber von vielen Ländern unterstützt wird.\n"
     ]
    }
   ],
   "source": [
    "res = rag_chain.invoke(\"Was weißt du zu Tibet?\")\n",
    "print(res['result'])"
   ]
  },
  {
   "cell_type": "code",
   "execution_count": null,
   "id": "d74cdfbc",
   "metadata": {},
   "outputs": [],
   "source": []
  }
 ],
 "metadata": {
  "kernelspec": {
   "display_name": "Python 3 (ipykernel)",
   "language": "python",
   "name": "python3"
  },
  "language_info": {
   "codemirror_mode": {
    "name": "ipython",
    "version": 3
   },
   "file_extension": ".py",
   "mimetype": "text/x-python",
   "name": "python",
   "nbconvert_exporter": "python",
   "pygments_lexer": "ipython3",
   "version": "3.9.16"
  }
 },
 "nbformat": 4,
 "nbformat_minor": 5
}
