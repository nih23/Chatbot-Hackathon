{
 "cells": [
  {
   "cell_type": "code",
   "execution_count": 1,
   "metadata": {},
   "outputs": [
    {
     "data": {
      "text/plain": [
       "True"
      ]
     },
     "execution_count": 1,
     "metadata": {},
     "output_type": "execute_result"
    }
   ],
   "source": [
    "from langchain_community.chat_models import ChatOpenAI\n",
    "from langchain_experimental.agents import create_pandas_dataframe_agent\n",
    "import pandas as pd\n",
    "from dotenv import load_dotenv, find_dotenv\n",
    "load_dotenv(find_dotenv())"
   ]
  },
  {
   "cell_type": "code",
   "execution_count": 2,
   "metadata": {},
   "outputs": [],
   "source": [
    "# Load the csv file as Pandas dataframe.\n",
    "filename = \"./data/dataset_telco_customer_churn.csv\"\n",
    "df = pd.read_csv(filename)"
   ]
  },
  {
   "cell_type": "code",
   "execution_count": 3,
   "metadata": {},
   "outputs": [
    {
     "name": "stderr",
     "output_type": "stream",
     "text": [
      "/opt/anaconda3/envs/ml/lib/python3.9/site-packages/langchain_core/_api/deprecation.py:117: LangChainDeprecationWarning: The class `langchain_community.chat_models.openai.ChatOpenAI` was deprecated in langchain-community 0.0.10 and will be removed in 0.2.0. An updated version of the class exists in the langchain-openai package and should be used instead. To use it run `pip install -U langchain-openai` and import as `from langchain_openai import ChatOpenAI`.\n",
      "  warn_deprecated(\n"
     ]
    }
   ],
   "source": [
    "# Initiate a connection to the LLM from Azure OpenAI Service via LangChain.\n",
    "llm = ChatOpenAI(model=\"gpt-4\", max_tokens=1024)"
   ]
  },
  {
   "cell_type": "code",
   "execution_count": 4,
   "metadata": {},
   "outputs": [],
   "source": [
    "# Initiate a LangChain's Pandas Agent with the LLM from Azure OpenAI Service to interact with the dataframe.\n",
    "agent = create_pandas_dataframe_agent(llm, df, verbose=True)"
   ]
  },
  {
   "cell_type": "code",
   "execution_count": 5,
   "metadata": {},
   "outputs": [
    {
     "name": "stderr",
     "output_type": "stream",
     "text": [
      "/opt/anaconda3/envs/ml/lib/python3.9/site-packages/langchain_core/_api/deprecation.py:117: LangChainDeprecationWarning: The function `run` was deprecated in LangChain 0.1.0 and will be removed in 0.2.0. Use invoke instead.\n",
      "  warn_deprecated(\n"
     ]
    },
    {
     "name": "stdout",
     "output_type": "stream",
     "text": [
      "Please say \"Hello!\" before replying to the query. \n",
      "You must need to use matplotlib library to create any chart.\n",
      "If the query requires creating a bar chart, please save the chart as \"./chart_image/chart.png\" and display it.\n",
      "\n",
      "Here is the query: Please tell me the distribution of churn by total count number of gender in stacked bar chart.\n",
      "\n",
      "\n",
      "\u001b[1m> Entering new AgentExecutor chain...\u001b[0m\n",
      "\u001b[32;1m\u001b[1;3mThought: To answer this question, I need to create a stacked bar chart that shows the distribution of churn by gender. First, I need to extract the necessary data from the dataframe. The two relevant columns are \"gender\" and \"Churn\". I need to count the number of churns for each gender.\n",
      "Action: python_repl_ast\n",
      "Action Input: df.groupby(['gender', 'Churn']).size().unstack()\u001b[0m\u001b[36;1m\u001b[1;3mChurn     No  Yes\n",
      "gender           \n",
      "Female  2549  939\n",
      "Male    2625  930\u001b[0m\u001b[32;1m\u001b[1;3mThe data shows the count of churns by gender. \"No\" and \"Yes\" refer to whether or not a customer has churned. There are 2549 female customers and 2625 male customers who have not churned. On the other hand, 939 female customers and 930 male customers have churned. Now, I will use this data to create a stacked bar chart using the matplotlib library.\n",
      "Action: python_repl_ast\n",
      "Action Input: \n",
      "import matplotlib.pyplot as plt\n",
      "\n",
      "# Create a new figure\n",
      "plt.figure(figsize=(10, 7))\n",
      "\n",
      "# Extract the data\n",
      "churn_data = df.groupby(['gender', 'Churn']).size().unstack()\n",
      "\n",
      "# Create the stacked bar chart\n",
      "churn_data.plot(kind='bar', stacked=True, color=['#4D3425','#E4512B'])\n",
      "\n",
      "# Set the title and labels\n",
      "plt.title('Distribution of churn by gender')\n",
      "plt.xlabel('Gender')\n",
      "plt.ylabel('Count')\n",
      "\n",
      "# Save the chart\n",
      "plt.savefig('./chart_image/chart.png')\n",
      "\n",
      "# Display the chart\n",
      "plt.show()\u001b[0m"
     ]
    },
    {
     "data": {
      "text/plain": [
       "<Figure size 1000x700 with 0 Axes>"
      ]
     },
     "metadata": {},
     "output_type": "display_data"
    },
    {
     "data": {
      "image/png": "[encoded data removed]",
      "text/plain": [
       "<Figure size 640x480 with 1 Axes>"
      ]
     },
     "metadata": {},
     "output_type": "display_data"
    },
    {
     "name": "stdout",
     "output_type": "stream",
     "text": [
      "\u001b[36;1m\u001b[1;3m\u001b[0m\u001b[32;1m\u001b[1;3mI have created a stacked bar chart that shows the distribution of churn by gender. The chart is saved as \"./chart_image/chart.png\". Now, I can provide the final answer.\n",
      "Final Answer: I have created a stacked bar chart that shows the distribution of churn by gender. The chart is saved as \"./chart_image/chart.png\". You can see it from there.\u001b[0m\n",
      "\n",
      "\u001b[1m> Finished chain.\u001b[0m\n",
      "I have created a stacked bar chart that shows the distribution of churn by gender. The chart is saved as \"./chart_image/chart.png\". You can see it from there.\n"
     ]
    }
   ],
   "source": [
    " #Attempt to get prompts from the agent object\n",
    "# Define the preinstruction for the query\n",
    "instruction = \"\"\"Please say \"Hello!\" before replying to the query. \n",
    "You must need to use matplotlib library to create any chart.\n",
    "If the query requires creating a bar chart, please save the chart as \"./chart_image/chart.png\" and display it.\n",
    "\n",
    "Here is the query: \"\"\"\n",
    "\n",
    "# Define the query\n",
    "query = \"Please tell me the distribution of churn by total count number of gender in stacked bar chart.\"\n",
    "\n",
    "# Make up the prompt\n",
    "prompt = instruction + query\n",
    "\n",
    "# Display the prompt\n",
    "print(prompt)\n",
    "\n",
    "# Run the agent to interact with the dataframe\n",
    "response = agent.run(prompt)\n",
    "\n",
    "\n",
    "print(response)"
   ]
  },
  {
   "cell_type": "code",
   "execution_count": 6,
   "metadata": {},
   "outputs": [],
   "source": [
    "# Define the preinstruction for the query.\n",
    "instruction = \"\"\"Please say \"Bello!\" before reply to the query. You must need to use matplotlib library to create a any chart.\n",
    "\n",
    "If the query requires creating a bar chart, please save the chart as \"./chart_image/chart.png\" and display it. Please also say \"Here is the chart:\" before displaying the chart.\n",
    "\n",
    "Here is the query: \"\"\""
   ]
  },
  {
   "cell_type": "code",
   "execution_count": 7,
   "metadata": {},
   "outputs": [],
   "source": [
    "# Define the query.\n",
    "query = \"Please tell me the distribution of churn by total count number of gender in stacked bar chart.\""
   ]
  },
  {
   "cell_type": "code",
   "execution_count": 8,
   "metadata": {},
   "outputs": [],
   "source": [
    "# Make up the prompt.\n",
    "prompt = instruction + query"
   ]
  },
  {
   "cell_type": "code",
   "execution_count": 9,
   "metadata": {},
   "outputs": [
    {
     "name": "stdout",
     "output_type": "stream",
     "text": [
      "Please say \"Bello!\" before reply to the query. You must need to use matplotlib library to create a any chart.\n",
      "\n",
      "If the query requires creating a bar chart, please save the chart as \"./chart_image/chart.png\" and display it. Please also say \"Here is the chart:\" before displaying the chart.\n",
      "\n",
      "Here is the query: Please tell me the distribution of churn by total count number of gender in stacked bar chart.\n"
     ]
    }
   ],
   "source": [
    "# Display the prompt.\n",
    "print(prompt)"
   ]
  },
  {
   "cell_type": "code",
   "execution_count": 10,
   "metadata": {},
   "outputs": [
    {
     "name": "stdout",
     "output_type": "stream",
     "text": [
      "\n",
      "\n",
      "\u001b[1m> Entering new AgentExecutor chain...\u001b[0m\n",
      "\u001b[32;1m\u001b[1;3mThought: To address this query, I would first need to generate a dataframe that represents the distribution of churn by the total count number of gender. This would involve grouping the data by gender and churn status, then counting the number of instances for each combination. After that, I would use matplotlib to create a stacked bar chart. \n",
      "\n",
      "Action: python_repl_ast\n",
      "Action Input: df.groupby(['gender', 'Churn']).size().unstack()\u001b[0m\u001b[36;1m\u001b[1;3mChurn     No  Yes\n",
      "gender           \n",
      "Female  2549  939\n",
      "Male    2625  930\u001b[0m"
     ]
    },
    {
     "data": {
      "image/png": "[encoded data removed]",
      "text/plain": [
       "<Figure size 640x480 with 1 Axes>"
      ]
     },
     "metadata": {},
     "output_type": "display_data"
    },
    {
     "name": "stdout",
     "output_type": "stream",
     "text": [
      "\u001b[32;1m\u001b[1;3mThe dataframe I generated shows the count of churn status (No/Yes) for both genders (Female/Male). Now, I will create a stacked bar chart using matplotlib library. I will also need to save the chart as \"./chart_image/chart.png\". \n",
      "\n",
      "Action: python_repl_ast\n",
      "Action Input: \n",
      "```python\n",
      "import matplotlib.pyplot as plt\n",
      "\n",
      "# Creating the bar plot\n",
      "df.groupby(['gender', 'Churn']).size().unstack().plot(kind='bar', stacked=True)\n",
      "\n",
      "# Adding title and labels\n",
      "plt.title('Distribution of Churn by Gender')\n",
      "plt.xlabel('Gender')\n",
      "plt.ylabel('Count')\n",
      "\n",
      "# Saving the chart\n",
      "plt.savefig('./chart_image/chart.png')\n",
      "\n",
      "# Displaying the chart\n",
      "plt.show()\n",
      "```\u001b[0m\u001b[36;1m\u001b[1;3m\u001b[0m\u001b[32;1m\u001b[1;3mThe bar chart was generated and displayed successfully. Now, I need to respond to the query by saying \"Bello!\" and \"Here is the chart:\" before showing the chart and the image path.\n",
      "\n",
      "Final Answer: Bello! Here is the chart: \"./chart_image/chart.png\"\u001b[0m\n",
      "\n",
      "\u001b[1m> Finished chain.\u001b[0m\n"
     ]
    },
    {
     "data": {
      "text/plain": [
       "'Bello! Here is the chart: \"./chart_image/chart.png\"'"
      ]
     },
     "execution_count": 10,
     "metadata": {},
     "output_type": "execute_result"
    }
   ],
   "source": [
    "# Run the agent to interact with the dataframe.\n",
    "agent.run(prompt)"
   ]
  }
 ],
 "metadata": {
  "kernelspec": {
   "display_name": "Python 3 (ipykernel)",
   "language": "python",
   "name": "python3"
  },
  "language_info": {
   "codemirror_mode": {
    "name": "ipython",
    "version": 3
   },
   "file_extension": ".py",
   "mimetype": "text/x-python",
   "name": "python",
   "nbconvert_exporter": "python",
   "pygments_lexer": "ipython3",
   "version": "3.9.16"
  }
 },
 "nbformat": 4,
 "nbformat_minor": 4
}
