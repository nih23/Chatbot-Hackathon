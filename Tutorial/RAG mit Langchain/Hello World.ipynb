{
 "cells": [
  {
   "cell_type": "code",
   "execution_count": 1,
   "id": "48fb03a1-402e-4dfd-946b-3070896e04b8",
   "metadata": {},
   "outputs": [
    {
     "data": {
      "text/plain": [
       "True"
      ]
     },
     "execution_count": 1,
     "metadata": {},
     "output_type": "execute_result"
    }
   ],
   "source": [
    "import os\n",
    "from langchain.llms import HuggingFaceTextGenInference\n",
    "from langchain_community.chat_models import ChatOpenAI\n",
    "from langchain_community.embeddings import OpenAIEmbeddings\n",
    "from dotenv import load_dotenv\n",
    "load_dotenv()"
   ]
  },
  {
   "cell_type": "code",
   "execution_count": 2,
   "id": "78bd8f4d-2509-45fd-99ef-c08673e9deba",
   "metadata": {},
   "outputs": [
    {
     "data": {
      "text/plain": [
       "'0.1.16'"
      ]
     },
     "execution_count": 2,
     "metadata": {},
     "output_type": "execute_result"
    }
   ],
   "source": [
    "import langchain\n",
    "langchain.__version__"
   ]
  },
  {
   "cell_type": "markdown",
   "id": "892ab868",
   "metadata": {},
   "source": [
    "Wir definieren nun zwei Hilfsfunktionen um einfach zwischen GPT4 und unserem lokalen Sprachmodell zu wechseln."
   ]
  },
  {
   "cell_type": "code",
   "execution_count": 3,
   "id": "6510cf14",
   "metadata": {},
   "outputs": [
    {
     "name": "stderr",
     "output_type": "stream",
     "text": [
      "/opt/anaconda3/envs/ml/lib/python3.9/site-packages/langchain_core/_api/deprecation.py:117: LangChainDeprecationWarning: The class `langchain_community.chat_models.openai.ChatOpenAI` was deprecated in langchain-community 0.0.10 and will be removed in 0.2.0. An updated version of the class exists in the langchain-openai package and should be used instead. To use it run `pip install -U langchain-openai` and import as `from langchain_openai import ChatOpenAI`.\n",
      "  warn_deprecated(\n"
     ]
    }
   ],
   "source": [
    "def getLLM_openai(): #openai API key kommt aus der .env Datei\n",
    "    return ChatOpenAI(model=\"gpt-4-turbo-preview\")\n",
    "    #return OpenAI(request_timeout=10, model_name=\"gpt-4-turbo-preview\") #10s timeout, model_name = \"gpt-3.5-turbo\"\n",
    "\n",
    "\n",
    "def getLLM_TGI(): \n",
    "     llm = HuggingFaceTextGenInference(inference_server_url=os.environ['TGI_URL'], max_new_tokens=2048, top_k=10, top_p=0.95, typical_p=0.95, temperature=0.01, repetition_penalty=1.03) \n",
    "     return llm\n",
    " \n",
    " \n",
    "llm = getLLM_openai()"
   ]
  },
  {
   "cell_type": "markdown",
   "id": "b5fa3011",
   "metadata": {},
   "source": [
    "# Erste Experimente\n",
    "In der nächsten Zelle rufen wir das LLM einfach auf."
   ]
  },
  {
   "cell_type": "code",
   "execution_count": 4,
   "id": "8bae8dd6",
   "metadata": {},
   "outputs": [
    {
     "name": "stdout",
     "output_type": "stream",
     "text": [
      "content='Der Himmel erscheint blau, weil die Moleküle in der Erdatmosphäre das blaue Licht der Sonne stärker streuen als das Licht anderer Farben. Dieses Phänomen wird als Rayleigh-Streuung bezeichnet. Da kurzwelliges, blaues Licht in alle Richtungen zerstreut wird, sehen wir den Himmel über uns in dieser Farbe.' response_metadata={'token_usage': <OpenAIObject at 0x106206f40> JSON: {\n",
      "  \"prompt_tokens\": 25,\n",
      "  \"completion_tokens\": 88,\n",
      "  \"total_tokens\": 113\n",
      "}, 'model_name': 'gpt-4-turbo-preview', 'system_fingerprint': 'fp_daebbecb8f', 'finish_reason': 'stop', 'logprobs': None} id='run-46e78afc-e913-4aaa-ad83-38fe420b4f92-0'\n"
     ]
    }
   ],
   "source": [
    "res = llm.invoke(\"Warum ist der Himmel blau? Antworte in drei Sätzen.\")\n",
    "print(res)"
   ]
  },
  {
   "cell_type": "markdown",
   "id": "8ccb28b1",
   "metadata": {},
   "source": [
    "# RAG workflow\n",
    "Im folgenden stellen wir einen Beispielhaften RAG Workflow dar, der Daten von der Wikipedia Seite von Tibet als Grundlage nimmt."
   ]
  },
  {
   "cell_type": "code",
   "execution_count": 5,
   "id": "741b91ef",
   "metadata": {},
   "outputs": [],
   "source": [
    "import prompts\n",
    "from langchain.document_loaders import WebBaseLoader\n",
    "from langchain.text_splitter import RecursiveCharacterTextSplitter\n",
    "from langchain.embeddings import OpenAIEmbeddings, GPT4AllEmbeddings, HuggingFaceEmbeddings\n",
    "from langchain.vectorstores import Chroma\n",
    "from langchain.chains import RetrievalQA\n",
    "\n",
    "loader = WebBaseLoader(\"https://de.wikipedia.org/wiki/Tibet\")\n",
    "text_splitter = RecursiveCharacterTextSplitter(chunk_size = 1000, chunk_overlap = 100)\n",
    "splits = text_splitter.split_documents(loader.load())"
   ]
  },
  {
   "cell_type": "markdown",
   "id": "6804f420",
   "metadata": {},
   "source": [
    "Wir definieren uns nun ein Embedding für die deutsche Sprache und nehmen Chroma als Vektordatenbank. Diese benötigen wir für die Suche nach passenden Dokumenten für unsere Anfrage an das Sprachmodell"
   ]
  },
  {
   "cell_type": "code",
   "execution_count": 8,
   "id": "fe847a22",
   "metadata": {},
   "outputs": [],
   "source": [
    "#emb = HuggingFaceEmbeddings(model_name='aari1995/German_Semantic_STS_V2')\n",
    "emb = OpenAIEmbeddings()\n",
    "\n",
    "vectorstore = Chroma.from_documents(documents=splits, embedding=emb) # , persist_directory=\"./chroma_db\"\n",
    "retriever = vectorstore.as_retriever()\n",
    "rag_prompt = prompts.german_sauerkrautlm()"
   ]
  },
  {
   "cell_type": "markdown",
   "id": "1870fb5a",
   "metadata": {},
   "source": [
    "In der folgenden Zelle verketten wir die Anfrage an die Vektordatenbank mit dem Aufruf von unserem Sprachmodell in einem `rag_chain`."
   ]
  },
  {
   "cell_type": "code",
   "execution_count": 9,
   "id": "e5269f13",
   "metadata": {},
   "outputs": [],
   "source": [
    "# configure rag chain\n",
    "chain_type_kwargs = {\"prompt\": rag_prompt}\n",
    "rag_chain = RetrievalQA.from_chain_type(llm=llm, chain_type='stuff', retriever=retriever, \n",
    "                                    chain_type_kwargs=chain_type_kwargs,\n",
    "                                    return_source_documents=True)"
   ]
  },
  {
   "cell_type": "markdown",
   "id": "f040132e",
   "metadata": {},
   "source": [
    "Nun erfolgt die eigentliche Anfrage an das LLM:"
   ]
  },
  {
   "cell_type": "code",
   "execution_count": 10,
   "id": "515c9d0d",
   "metadata": {},
   "outputs": [
    {
     "name": "stdout",
     "output_type": "stream",
     "text": [
      "Tibet ist eine Region in Zentralasien, die eine eigenständige Kultur und Staaten wie Shangshung und Tubo vor dem 7. Jahrhundert entwickelt hat. Es ist geografisch durch das Himalaya-Gebirge abgeschieden und erstreckt sich über das tibetische Hochland. Tibet geriet Mitte des 13. Jahrhunderts unter mongolische Herrschaft, zusammen mit China. Bis ins 20. Jahrhundert hatte Tibet ein eigenes Staatswesen, doch seine gegenwärtige Zugehörigkeit zur Volksrepublik China ist völkerrechtlich umstritten. Seit 1959 existiert eine tibetische Exilregierung, die international Unterstützung findet, jedoch offiziell nicht anerkannt ist.\n"
     ]
    }
   ],
   "source": [
    "res = rag_chain.invoke(\"Was weißt du zu Tibet?\")\n",
    "print(res['result'])"
   ]
  }
 ],
 "metadata": {
  "kernelspec": {
   "display_name": "Python 3 (ipykernel)",
   "language": "python",
   "name": "python3"
  },
  "language_info": {
   "codemirror_mode": {
    "name": "ipython",
    "version": 3
   },
   "file_extension": ".py",
   "mimetype": "text/x-python",
   "name": "python",
   "nbconvert_exporter": "python",
   "pygments_lexer": "ipython3",
   "version": "3.9.16"
  }
 },
 "nbformat": 4,
 "nbformat_minor": 5
}
