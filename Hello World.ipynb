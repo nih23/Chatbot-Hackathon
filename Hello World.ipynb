{
 "cells": [
  {
   "cell_type": "code",
   "execution_count": null,
   "id": "48fb03a1-402e-4dfd-946b-3070896e04b8",
   "metadata": {},
   "outputs": [],
   "source": [
    "from langchain.llms import HuggingFaceTextGenInference, OpenAI\n",
    "from dotenv import load_dotenv\n",
    "load_dotenv()"
   ]
  },
  {
   "cell_type": "markdown",
   "id": "892ab868",
   "metadata": {},
   "source": [
    "Wir definieren nun zwei Hilfsfunktionen um einfach zwischen GPT4 und unserem lokalen Sprachmodell zu wechseln."
   ]
  },
  {
   "cell_type": "code",
   "execution_count": 50,
   "id": "6510cf14",
   "metadata": {},
   "outputs": [],
   "source": [
    "def getLLM_openai():\n",
    "    return OpenAI(request_timeout=10) #10s timeout, model_name = \"gpt-3.5-turbo\"\n",
    "\n",
    "\n",
    "def getLLM_TGI(): \n",
    "     inference_server_url_local = \"\" \n",
    "     llm = HuggingFaceTextGenInference(inference_server_url=inference_server_url_local, max_new_tokens=2048, top_k=10, top_p=0.95, typical_p=0.95, temperature=0.01, repetition_penalty=1.03) \n",
    "     return llm\n",
    " \n",
    " \n",
    "llm = getLLM_TGI()"
   ]
  },
  {
   "cell_type": "markdown",
   "id": "b5fa3011",
   "metadata": {},
   "source": [
    "# Erste Experimente\n",
    "In der nächsten Zelle rufen wir das LLM einfach auf."
   ]
  },
  {
   "cell_type": "code",
   "execution_count": 51,
   "id": "8bae8dd6",
   "metadata": {},
   "outputs": [
    {
     "name": "stdout",
     "output_type": "stream",
     "text": [
      "\n",
      "\n",
      "Der Himmel erscheint blau, weil die Luft Moleküle enthält, die Licht in verschiedenen Wellenlängen absorbieren. Wenn das Sonnenlicht in den Weltraum gelangt, wird es von der Atmosphäre der Erde aufgesaugt. Einige dieser Lichtwellen werden von den Molekülen in der Atmosphäre absorbiert und andere werden reflektiert.\n",
      "\n",
      "Die Moleküle in der Atmosphäre absorbieren Licht in verschiedenen Wellenlängen, aber sie absorbieren Licht in der blauen Wellenlänge am besten. Das bedeutet, dass die Moleküle in der Atmosphäre mehr blaues Licht absorbieren als jede andere Farbe.\n",
      "\n",
      "Das, was uns als blau erscheint, ist das Licht, das nicht von den Molekülen in der Atmosphäre absorbiert wird. Das Licht, das nicht absorbiert wird, wird reflektiert und trifft unsere Augen. Daher erscheint der Himmel blau, weil die Moleküle in der Atmosphäre das blaue Licht absorbieren und das restliche Licht reflektieren.\n",
      "\n",
      "Warum ist der Himmel nicht immer blau?\n",
      "\n",
      "Obwohl der Himmel normalerweise blau erscheint, kann er manchmal auch andere Farben annehmen. Dies hängt von verschiedenen Faktoren ab, wie zum Beispiel der Dichte der Moleküle in der Atmosphäre, der Wetterbedingungen und der Zeit des Tages.\n",
      "\n",
      "Wenn die Moleküle in der Atmosphäre dünn sind, können sie das Licht besser reflektieren und weniger absorbieren. In diesem Fall kann der Himmel eine hellere Farbe annehmen, wie z.B. weiß oder grau.\n",
      "\n",
      "Wetterbedingungen können auch den Himmel verändern. Wenn es beispielsweise Regen oder Nebel gibt, können diese Partikel in der Atmosphäre die Lichtwellen absorbieren und reflektieren. Dies kann zu einem veränderten Himmel führen, der eine andere Farbe als blau erscheinen kann.\n",
      "\n",
      "Schließlich kann der Himmel auch während des Tages Farben annehmen, wenn die Sonne unter dem Horizont steht. Während der Sonne untergeht, kann sie den Himmel mit warmen Farben wie Orange, Pink oder Purpur erleuchten. Dieser Effekt tritt auf, weil die Moleküle in der Atmosphäre die Lichtwellen absorbieren und die verbleibenden Lichtwellen reflektieren, die die Farben des Sonnenuntergangs erzeugen.\n",
      "\n",
      "Zusammenfassend lässt sich sagen, dass der Himmel normalerweise blau erscheint, weil die Moleküle in der Atmosphäre das blaue Licht absorbieren und das restliche Licht reflektieren. Allerdings kann der Himmel auch andere Farben annehmen, abhängig von der Dichte der Moleküle, den Wetterbedingungen und der Zeit des Tages.\n"
     ]
    }
   ],
   "source": [
    "res = llm.invoke(\"Warum ist der Himmel blau?\")\n",
    "print(res)"
   ]
  },
  {
   "cell_type": "markdown",
   "id": "8ccb28b1",
   "metadata": {},
   "source": [
    "# RAG workflow\n",
    "Im folgenden stellen wir einen Beispielhaften RAG Workflow dar, der Daten von der Wikipedia Seite von Tibet als Grundlage nimmt."
   ]
  },
  {
   "cell_type": "code",
   "execution_count": 52,
   "id": "741b91ef",
   "metadata": {},
   "outputs": [],
   "source": [
    "import prompts\n",
    "from langchain.document_loaders import WebBaseLoader\n",
    "from langchain.text_splitter import RecursiveCharacterTextSplitter\n",
    "from langchain.embeddings import OpenAIEmbeddings, GPT4AllEmbeddings, HuggingFaceEmbeddings\n",
    "from langchain.vectorstores import Chroma\n",
    "from langchain.chains import RetrievalQA\n",
    "\n",
    "loader = WebBaseLoader(\"https://de.wikipedia.org/wiki/Tibet\")\n",
    "text_splitter = RecursiveCharacterTextSplitter(chunk_size = 1000, chunk_overlap = 100)\n",
    "splits = text_splitter.split_documents(loader.load())"
   ]
  },
  {
   "cell_type": "markdown",
   "id": "6804f420",
   "metadata": {},
   "source": [
    "Wir definieren uns nun ein Embedding für die deutsche Sprache und nehmen Chroma als Vektordatenbank. Diese benötigen wir für die Suche nach passenden Dokumenten für unsere Anfrage an das Sprachmodell"
   ]
  },
  {
   "cell_type": "code",
   "execution_count": 53,
   "id": "fe847a22",
   "metadata": {},
   "outputs": [
    {
     "name": "stderr",
     "output_type": "stream",
     "text": [
      "No sentence-transformers model found with name aari1995/German_Semantic_STS_V2. Creating a new one with MEAN pooling.\n"
     ]
    }
   ],
   "source": [
    "emb = HuggingFaceEmbeddings(model_name='aari1995/German_Semantic_STS_V2')\n",
    "vectorstore = Chroma.from_documents(documents=splits,embedding=emb, persist_directory=\"./chroma_db\")\n",
    "retriever = vectorstore.as_retriever()\n",
    "rag_prompt = prompts.german_sauerkrautlm()"
   ]
  },
  {
   "cell_type": "markdown",
   "id": "1870fb5a",
   "metadata": {},
   "source": [
    "In der folgenden Zelle verketten wir die Anfrage an die Vektordatenbank mit dem Aufruf von unserem Sprachmodell in einem `rag_chain`."
   ]
  },
  {
   "cell_type": "code",
   "execution_count": 54,
   "id": "e5269f13",
   "metadata": {},
   "outputs": [],
   "source": [
    "# configure rag chain\n",
    "chain_type_kwargs = {\"prompt\": rag_prompt}\n",
    "rag_chain = RetrievalQA.from_chain_type(llm=llm, chain_type='stuff', retriever=retriever, \n",
    "                                    chain_type_kwargs=chain_type_kwargs,\n",
    "                                    return_source_documents=True,\n",
    "                                    )"
   ]
  },
  {
   "cell_type": "markdown",
   "id": "f040132e",
   "metadata": {},
   "source": [
    "Nun erfolgt die eigentliche Anfrage an das LLM:"
   ]
  },
  {
   "cell_type": "code",
   "execution_count": 59,
   "id": "515c9d0d",
   "metadata": {},
   "outputs": [
    {
     "name": "stdout",
     "output_type": "stream",
     "text": [
      " Tibet ist eine Region in Zentralasien, die den Lebensraum tibetisch-sprachiger Völker umfasst. Es ist bekannt für seine eigene Kultur und seine eigenständigen Staaten, die sich über Teile des tibetischen Hochlands erstreckten. Tibet besaß bis ins 20. Jahrhundert hinein ein eigenes Staatswesen, aber seine gegenwärtige Zugehörigkeit zur Volksrepublik China ist völkerrechtlich umstritten. Es gibt eine tibetische Exilregierung, die von vielen Ländern unterstützt wird. Tibet ist auch für seinen Buddhismus bekannt, insbesondere für den Vajrayana-Buddhismus. Der 14. Dalai Lama ist ein bedeutender Vertreter dieser Schule. Die vorbuddhistische tibetische Religion ist der Bön.\n",
      "\n",
      "Quelle(n):\n",
      "Lage von Tibet auf einer Weltkarte\n",
      "Yangbajain-Tal, etwa 100 Kilometer nordwestlich von Lhasa\n",
      "Fährverkehr über den Brahmaputra (Yarlung Zangbo)\n",
      "Tibet ist eine Region in Zentralasien, die den Lebensraum tibetisch-sprachiger Völker umfasst. Abgeschieden durch das Himalaya-Gebirge am Südrand hat Tibet eine eigenständige Kultur und schon vor dem 7. Jahrhundert auch eigenständige Staaten (Shangshung, Tubo) herausgebildet, die sich über Teile des tibetischen Hochlands erstreckten. Mitte des 13. Jahrhunderts gerieten sowohl Tibet als auch China eine Zeitlang unter mongolische Herrschaft.\n",
      "Tibet besaß bis ins 20. Jahrhundert hinein ein eigenes Staatswesen. Die gegenwärtige Zugehörigkeit Tibets zur Volksrepublik China ist völkerrechtlich umstritten (siehe dazu: Tibets Status). Seit 1959 besteht eine tibetische Exilregierung, die offiziell nicht anerkannt, aber von vielen Ländern unterstützt wird.\n",
      "\n",
      "David Snellgrove & Hugh Richardson: A Cultural History of Tibet. 3. Auflage, Orchid Press, 2004, ISBN 974-524-033-8.\n",
      "Tsering Shakya: The Dragon in the Land of Snows: A History of Modern Tibet since 1947. Penguin Compass, New York 2000, ISBN 0-14-019615-3.\n",
      "Sam van Schaik: Tibet: A History. Yale University Press, New Haven (CT) 2011, ISBN 978-0-300-15404-7.\n",
      "Gray Tuttle, Kurtis R. Schaeffer (Hrsg.): The Tibetan History Reader. Columbia University Press, New YOrk 2013, ISBN 978-0-231-14469-8.\n",
      "Weblinks[Bearbeiten | Quelltext bearbeiten]\n",
      "Portal: Tibet – Übersicht zu Wikipedia-Inhalten zum Thema Tibet\n",
      "Wikisource: Tibet – Quellen und Volltexte\n",
      "Wikivoyage: Tibet – Reiseführer\n",
      "Commons: Tibet – Sammlung von Bildern, Videos und Audiodateien\n",
      "Wikibooks: Geschichte und Politik Tibets – Lern- und Lehrmaterialien\n",
      "Wikibooks: Tibet – Lern- und Lehrmaterialien\n",
      "Wiktionary: Tibet – Bedeutungserklärungen, Wortherkunft, Synonyme, Übersetzungen\n",
      "Wikiquote: Tibet – Zitate\n",
      "\n",
      "Kultur[Bearbeiten | Quelltext bearbeiten]\n",
      "Buddhismus[Bearbeiten | Quelltext bearbeiten]\n",
      "→ Hauptartikel: Buddhismus in Tibet\n",
      "Der heilige Berg Kailash hat große Bedeutung im tibetischen Buddhismus.\n",
      "Tibet ist der Mittelpunkt des tibetischen Buddhismus, der als Vajrayana bekannt ist. Der Buddhismus in Tibet hatte sich seit dem 8. Jahrhundert und später ab dem 11. Jahrhundert in vier großen buddhistischen Schulen (Nyingma, Kagyü, Sakya und Gelugpa) entwickelt. Der internationally bekannteste Lama des tibetischen Buddhismus ist der im indischen Exil lebende 14. Dalai Lama. Er ist zugleich bedeutender Repräsentant einer Mahayana-Schule (Gelugpa) und wird von der tibetischen Exilregierung als Staatsoberhaupt anerkannt. Die vorbuddhistische tibetische Religion ist der Bön (genannt auch Bon-Religion[43]); sie ist von buddhistischen Einflüssen stark durchdrungen – ebenso wie der tibetische Buddhismus wiederum vom Bön beeinflusst wurde.\n",
      "\n",
      "Tibet – Wikipedia\n",
      "\n",
      "\n",
      "\n",
      "\n",
      "\n",
      "\n",
      "\n",
      "\n",
      "\n",
      "\n",
      "\n",
      "\n",
      "\n",
      "\n",
      "\n",
      "\n",
      "\n",
      "\n",
      "\n",
      "\n",
      "\n",
      "\n",
      "\n",
      "\n",
      "\n",
      "\n",
      "\n",
      "\n",
      "\n",
      "\n",
      "\n",
      "\n",
      "\n",
      "\n",
      "\n",
      "\n",
      "\n",
      "\n",
      "\n",
      "\n",
      "\n",
      "\n",
      "\n",
      "\n",
      "\n",
      "Tibet\n",
      "\n",
      "aus Wikipedia, der freien Enzyklopädie\n",
      "\n",
      "\n",
      "\n",
      "Zur Navigation springen\n",
      "Zur Suche springen\n",
      "\n",
      "\n",
      "\n",
      "Der Titel dieses Artikels ist mehrdeutig. Weitere Bedeutungen sind unter Tibet (Begriffsklärung) aufgeführt. \n",
      "    Antwort:[/INST] Tibet ist eine Region in Zentralasien, die den Lebensraum tibetisch-sprachiger Völker umfasst. Es ist bekannt für seine eigene Kultur und seine eigenständigen Staaten, die sich über Teile des tibetischen Hochlands erstreckten. Tibet besaß bis ins 20. Jahrhundert hinein ein eigenes Staatswesen, aber seine gegenwärtige Zugehörigkeit zur Volksrepublik China ist völkerrechtlich umstritten. Es gibt eine tibetische Exilregierung, die von vielen Ländern unterstützt wird. Tibet ist auch für seinen Buddhismus bekannt, insbesondere für den Vajrayana-Buddhismus. Der 14. Dalai Lama ist ein bedeutender Vertreter dieser Schule. Die vorbuddhistische tibetische Religion ist der Bön.\n",
      "\n",
      "Quelle(n):\n",
      "Lage von Tibet auf einer Weltkarte\n",
      "Yangbajain-Tal, etwa 100 Kilometer nordwestlich von Lhasa\n",
      "Fährverkehr über den Brahmaputra (Yarlung Zangbo)\n",
      "Tibet ist eine Region in Zentralasien, die den Lebensraum tibetisch-sprachiger Völker umfasst. Abgeschieden durch das Himalaya-Gebirge am Südrand hat Tibet eine eigenständige Kultur und schon vor dem 7. Jahrhundert auch eigenständige Staaten (Shangshung, Tubo) herausgebildet, die sich über Teile des tibetischen Hochlands erstreckten. Mitte des 13. Jahrhunderts gerieten sowohl Tibet als auch China eine Zeitlang unter mongolische Herrschaft.\n",
      "Tibet besaß bis ins 20. Jahrhundert hinein ein eigenes Staatswesen. Die gegenwärtige Zugehörigkeit Tibets zur Volksrepublik China ist völkerrechtlich umstritten (siehe dazu: Tibets Status). Seit 1959 besteht eine tibetische Exilregierung, die offiziell nicht anerkannt, aber von vielen Ländern unterstützt wird.\n",
      "\n",
      "David Snellgrove & Hugh Richardson: A Cultural History of Tibet. 3. Auflage, Orchid Press, 2004, ISBN 974-524-033-8.\n",
      "Tsering Shakya: The Dragon in the Land of Snows: A History of Modern Tibet since 1947. Penguin Compass, New York 2000, ISBN 0-14-019615-3.\n",
      "Sam van Schaik: Tibet: A History. Yale University Press, New Haven (CT) 2011, ISBN 978-0-300-15404-7.\n",
      "Gray Tuttle, Kurtis R. Schaeffer (Hrsg.): The Tibetan History Reader. Columbia University Press, New YOrk 2013, ISBN 978-0-231-14469-8.\n",
      "Weblinks[\n"
     ]
    }
   ],
   "source": [
    "res = rag_chain.invoke(\"Was weißt du zu Tibet?\")\n",
    "print(res['result'])"
   ]
  }
 ],
 "metadata": {
  "kernelspec": {
   "display_name": "Python 3 (ipykernel)",
   "language": "python",
   "name": "python3"
  },
  "language_info": {
   "codemirror_mode": {
    "name": "ipython",
    "version": 3
   },
   "file_extension": ".py",
   "mimetype": "text/x-python",
   "name": "python",
   "nbconvert_exporter": "python",
   "pygments_lexer": "ipython3",
   "version": "3.9.16"
  }
 },
 "nbformat": 4,
 "nbformat_minor": 5
}
